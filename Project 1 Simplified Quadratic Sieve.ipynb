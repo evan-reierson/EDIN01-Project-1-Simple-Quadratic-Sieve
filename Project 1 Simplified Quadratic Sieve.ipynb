{
 "cells": [
  {
   "cell_type": "markdown",
   "metadata": {},
   "source": [
    "## Project 1: Simplified Quadratic Sieve\n",
    "#### Group 14: Gonzalo Gómez and Evan Reierson"
   ]
  },
  {
   "cell_type": "code",
   "execution_count": 33,
   "metadata": {
    "collapsed": true
   },
   "outputs": [],
   "source": [
    "# import some stuff\n",
    "import math\n",
    "import numpy as np\n",
    "import os\n",
    "import sympy\n",
    "import seaborn as sns\n",
    "import matplotlib.pyplot as plt\n",
    "import time"
   ]
  },
  {
   "cell_type": "markdown",
   "metadata": {},
   "source": [
    "### Exercise 1: Brute Force Trial Division\n",
    "The product of two 12-digit numbers is a 23 or 24-digit number, so we can assume that the factors are no larger than $10^{12}$.\n",
    "<br>\n",
    "Since we need to complete at most $10^{12}$ trial divisions to find a factor and we can do $10^6$ tests per second, it would take $10^6$ seconds, or about $11.6$ days, to factor the number. This time could be halved by simply avoiding even numbers."
   ]
  },
  {
   "cell_type": "markdown",
   "metadata": {},
   "source": [
    "### Exercise 2: Improved Trial Division\n",
    "Let's say we store all the prime numbers smaller than $\\sqrt{10}\\cdot 10^{12}$ in memory. There are about $\\frac{3\\cdot 10^{12}}{ln(3\\cdot 10^{12})} = 10^{11}$ prime numbers, so using this \"improved\" trial division would take no more than $10^5 s = 1.2$ days to factor a 25-digit number, speeding the procces by a factor of about $ln(10^{12}) = 28$.\n",
    "<br>\n",
    "However, the memory required to store those primes would be about $10^{11}$ numbers times $ log_2 (3\\cdot 10^{12}) = 42$ bits per number, that is, $4.2$ terabits or $0.5$ terabytes. This is the size of a big USB drive or a small hard drive, so it would not be too expensive. It is worth considering that the memory required grows more or less linearly with the size of the number to factor, and we could have sped up the trial division by a factor of 4 just by avoiding multiples of 2, 3, 5 and 7 as potential divisors."
   ]
  },
  {
   "cell_type": "markdown",
   "metadata": {},
   "source": [
    "### Exercise 3: Simplified Quadratic Sieve"
   ]
  },
  {
   "cell_type": "markdown",
   "metadata": {},
   "source": [
    "#### Import and initialize"
   ]
  },
  {
   "cell_type": "code",
   "execution_count": 34,
   "metadata": {
    "collapsed": true
   },
   "outputs": [],
   "source": [
    "sns.set_style(\"darkgrid\")\n",
    "\n",
    "# load some primes\n",
    "primes_to_10000 = np.loadtxt('10000_primes.txt', delimiter='\\t')\n",
    "primes_to_10000 = primes_to_10000.flatten().astype(int)\n",
    "\n",
    "# pick an n to factor where n=pq \n",
    "n = 196097436898174954190359\n",
    "#n = 92434447339770015548544881401\n",
    "\n",
    "\n",
    "# choose a factorbase maximum B\n",
    "B = 2500\n",
    "\n",
    "# get a factorbase with primes up to B and store its size\n",
    "F = primes_to_10000[primes_to_10000 < B].tolist()\n",
    "mag_F = len(F)"
   ]
  },
  {
   "cell_type": "markdown",
   "metadata": {},
   "source": [
    "#### Define some helper functions"
   ]
  },
  {
   "cell_type": "code",
   "execution_count": 35,
   "metadata": {
    "collapsed": true
   },
   "outputs": [],
   "source": [
    "'''\n",
    "iterate over factorbase looking for divisors and recursivly return\n",
    "the quotient until n is 1 or there are no factors left in the factorbase\n",
    "'''\n",
    "def is_b_smooth(n, d={}):\n",
    "    if (n == 1):\n",
    "        return d\n",
    "    for f in F:\n",
    "        if (n % f == 0):\n",
    "            if (f in d.keys()):\n",
    "                d[f] += 1\n",
    "            else:\n",
    "                d[f] = 1\n",
    "            return is_b_smooth(n//f, d)\n",
    "    return False"
   ]
  },
  {
   "cell_type": "code",
   "execution_count": 36,
   "metadata": {
    "collapsed": true
   },
   "outputs": [],
   "source": [
    "'''\n",
    "write factorbase to a file that is readable by GaussBin.cpp\n",
    "'''\n",
    "def write_factors(factors):\n",
    "    with open('gauss_input', 'w') as file:\n",
    "        file.write('{} {}\\n'.format(str(len(factors)), str(mag_F)))\n",
    "        for r in factors:\n",
    "            file.write(' '.join([str(x) for x in r]) + '\\n')  "
   ]
  },
  {
   "cell_type": "code",
   "execution_count": 37,
   "metadata": {
    "collapsed": true
   },
   "outputs": [],
   "source": [
    "'''\n",
    "get the cumulative product of a list mod n\n",
    "'''\n",
    "def prodmod(a):\n",
    "    p = 1\n",
    "    for i in a:\n",
    "        p *= i\n",
    "        p %= n\n",
    "    return int(p)"
   ]
  },
  {
   "cell_type": "markdown",
   "metadata": {},
   "source": [
    "#### Fill in the factor base"
   ]
  },
  {
   "cell_type": "code",
   "execution_count": 38,
   "metadata": {
    "collapsed": true
   },
   "outputs": [],
   "source": [
    "ks = []\n",
    "js = []\n",
    "\n",
    "def get_factorbase():\n",
    "    # successful r-values\n",
    "    rs = []\n",
    "    # successful factors\n",
    "    factors = []\n",
    "    # successful factors mod 2\n",
    "    factors_mod2 = []\n",
    "\n",
    "    for k in range(2,B):\n",
    "        n_root_k = int(math.sqrt(k*n))\n",
    "        for j in range(2, k):\n",
    "            ks.append(k)\n",
    "            js.append(j)\n",
    "            \n",
    "            # calculate likely b-smooth r value from j and k \n",
    "            r = n_root_k + j\n",
    "            r2 = pow(r, 2) % n\n",
    "            \n",
    "            t = is_b_smooth(r2)\n",
    "            # check if r^2 mod n is b smooth\n",
    "            if (t):\n",
    "                # get the factors\n",
    "                #factorization = sympy.ntheory.factorint(r2)\n",
    "                factorization = t\n",
    "                factorbase_powers = [0] * mag_F\n",
    "                \n",
    "                # set the position in F to its corresponding power \n",
    "                for key in factorization:\n",
    "                    factorbase_powers[F.index(key)] = factorization[key]\n",
    "                \n",
    "                factorbase_powers_mod2 = [x % 2 for x in factorbase_powers]\n",
    "                \n",
    "                # make sure the factorbase powers are valid\n",
    "                if (sum(factorbase_powers) > 0 and\n",
    "                    factorbase_powers_mod2 not in factors_mod2):\n",
    "                    \n",
    "                    # keep track of valid factors\n",
    "                    factors.append(factorbase_powers)\n",
    "                    factors_mod2.append(factorbase_powers_mod2)\n",
    "                    rs.append(r)\n",
    "                    \n",
    "                    # return when we have enough factors\n",
    "                    if (len(factors) >= mag_F + 5):\n",
    "                        return factors, rs\n",
    "    return factors, rs"
   ]
  },
  {
   "cell_type": "markdown",
   "metadata": {},
   "source": [
    "#### Check if the solutions from GaussBin.cpp give us a factor for n"
   ]
  },
  {
   "cell_type": "code",
   "execution_count": 39,
   "metadata": {
    "collapsed": true
   },
   "outputs": [],
   "source": [
    "def check_solutions():\n",
    "    for s in solutions:\n",
    "        rs_in_solution = []\n",
    "        \n",
    "        # get r values corresponding to the solution vector\n",
    "        for si, ri in zip(s, rs):\n",
    "            if (si):\n",
    "                rs_in_solution.append(ri)\n",
    "        \n",
    "        # get product of r's mod n\n",
    "        r_prod_modn = prodmod(rs_in_solution)\n",
    "        \n",
    "        powers = [0] * mag_F\n",
    "        \n",
    "        for r in rs_in_solution:\n",
    "            index = rs.index(r)\n",
    "            # add powers in in factors for each r\n",
    "            for i, f in enumerate(factors[index]):\n",
    "                powers[i] += f\n",
    "        \n",
    "        # take out a power of 2\n",
    "        powers = [x // 2 for x in powers]\n",
    "        \n",
    "        # sum all the factors in each r to their appropriate power\n",
    "        right = []\n",
    "        for f, p in zip(F, powers):\n",
    "            right.append(pow(f, p))\n",
    "        \n",
    "        # get the product mod n\n",
    "        right = prodmod(right)\n",
    "        \n",
    "        fac = math.gcd(right - r_prod_modn, n)\n",
    "        \n",
    "        if (fac > 1 and fac != n):\n",
    "            return fac"
   ]
  },
  {
   "cell_type": "markdown",
   "metadata": {},
   "source": [
    "#### Run and measure execution time"
   ]
  },
  {
   "cell_type": "code",
   "execution_count": 40,
   "metadata": {},
   "outputs": [
    {
     "ename": "KeyboardInterrupt",
     "evalue": "",
     "output_type": "error",
     "traceback": [
      "\u001b[0;31m---------------------------------------------------------------------------\u001b[0m",
      "\u001b[0;31mKeyboardInterrupt\u001b[0m                         Traceback (most recent call last)",
      "\u001b[0;32m<ipython-input-40-7a315d97e6ea>\u001b[0m in \u001b[0;36m<module>\u001b[0;34m()\u001b[0m\n\u001b[1;32m     11\u001b[0m \u001b[0msolutions\u001b[0m \u001b[0;34m=\u001b[0m \u001b[0mnp\u001b[0m\u001b[0;34m.\u001b[0m\u001b[0mloadtxt\u001b[0m\u001b[0;34m(\u001b[0m\u001b[0;34m'gauss_output'\u001b[0m\u001b[0;34m,\u001b[0m \u001b[0mskiprows\u001b[0m\u001b[0;34m=\u001b[0m\u001b[0;36m1\u001b[0m\u001b[0;34m,\u001b[0m \u001b[0mdtype\u001b[0m\u001b[0;34m=\u001b[0m\u001b[0mint\u001b[0m\u001b[0;34m)\u001b[0m\u001b[0;34m\u001b[0m\u001b[0m\n\u001b[1;32m     12\u001b[0m \u001b[0;34m\u001b[0m\u001b[0m\n\u001b[0;32m---> 13\u001b[0;31m \u001b[0mf1\u001b[0m \u001b[0;34m=\u001b[0m \u001b[0mcheck_solutions\u001b[0m\u001b[0;34m(\u001b[0m\u001b[0;34m)\u001b[0m\u001b[0;34m\u001b[0m\u001b[0m\n\u001b[0m\u001b[1;32m     14\u001b[0m \u001b[0mf2\u001b[0m \u001b[0;34m=\u001b[0m \u001b[0mn\u001b[0m \u001b[0;34m//\u001b[0m \u001b[0mf1\u001b[0m\u001b[0;34m\u001b[0m\u001b[0m\n\u001b[1;32m     15\u001b[0m \u001b[0mellapsed_time\u001b[0m \u001b[0;34m=\u001b[0m \u001b[0mtime\u001b[0m\u001b[0;34m.\u001b[0m\u001b[0mtime\u001b[0m\u001b[0;34m(\u001b[0m\u001b[0;34m)\u001b[0m \u001b[0;34m-\u001b[0m \u001b[0mstart_time\u001b[0m\u001b[0;34m\u001b[0m\u001b[0m\n",
      "\u001b[0;32m<ipython-input-39-e268c1db600b>\u001b[0m in \u001b[0;36mcheck_solutions\u001b[0;34m()\u001b[0m\n\u001b[1;32m     25\u001b[0m         \u001b[0mright\u001b[0m \u001b[0;34m=\u001b[0m \u001b[0;34m[\u001b[0m\u001b[0;34m]\u001b[0m\u001b[0;34m\u001b[0m\u001b[0m\n\u001b[1;32m     26\u001b[0m         \u001b[0;32mfor\u001b[0m \u001b[0mf\u001b[0m\u001b[0;34m,\u001b[0m \u001b[0mp\u001b[0m \u001b[0;32min\u001b[0m \u001b[0mzip\u001b[0m\u001b[0;34m(\u001b[0m\u001b[0mF\u001b[0m\u001b[0;34m,\u001b[0m \u001b[0mpowers\u001b[0m\u001b[0;34m)\u001b[0m\u001b[0;34m:\u001b[0m\u001b[0;34m\u001b[0m\u001b[0m\n\u001b[0;32m---> 27\u001b[0;31m             \u001b[0mright\u001b[0m\u001b[0;34m.\u001b[0m\u001b[0mappend\u001b[0m\u001b[0;34m(\u001b[0m\u001b[0mpow\u001b[0m\u001b[0;34m(\u001b[0m\u001b[0mf\u001b[0m\u001b[0;34m,\u001b[0m \u001b[0mp\u001b[0m\u001b[0;34m)\u001b[0m\u001b[0;34m)\u001b[0m\u001b[0;34m\u001b[0m\u001b[0m\n\u001b[0m\u001b[1;32m     28\u001b[0m \u001b[0;34m\u001b[0m\u001b[0m\n\u001b[1;32m     29\u001b[0m         \u001b[0;31m# get the product mod n\u001b[0m\u001b[0;34m\u001b[0m\u001b[0;34m\u001b[0m\u001b[0m\n",
      "\u001b[0;31mKeyboardInterrupt\u001b[0m: "
     ]
    }
   ],
   "source": [
    "start_time = time.time()\n",
    "factors, rs = get_factorbase()\n",
    "\n",
    "# write file for GaussBin.cpp\n",
    "write_factors(factors)\n",
    "\n",
    "# run GaussBin.cpp\n",
    "!!./gauss1 gauss_input gauss_output\n",
    "\n",
    "# load solutions from GaussBin.cpp\n",
    "solutions = np.loadtxt('gauss_output', skiprows=1, dtype=int)\n",
    "\n",
    "f1 = check_solutions()\n",
    "f2 = n // f1\n",
    "ellapsed_time = time.time() - start_time\n",
    "\n",
    "print('The factors of {} are {} and {}.'.format(n, f1, f2))\n",
    "print('It took {} seconds to find the factors.'.format(ellapsed_time))"
   ]
  },
  {
   "cell_type": "markdown",
   "metadata": {},
   "source": [
    "#### Some fun stuff now"
   ]
  },
  {
   "cell_type": "code",
   "execution_count": null,
   "metadata": {
    "collapsed": true
   },
   "outputs": [],
   "source": [
    "# reset values to something reasonable for displaying j and k\n",
    "n = 307561\n",
    "B = 30\n",
    "F = primes_to_10000[primes_to_10000 < B].tolist()\n",
    "mag_F = len(F)\n",
    "\n",
    "ks = []\n",
    "js = []\n",
    "get_factorbase();"
   ]
  },
  {
   "cell_type": "code",
   "execution_count": null,
   "metadata": {
    "scrolled": true
   },
   "outputs": [],
   "source": [
    "plt.plot(ks, js, linewidth=.5, marker='o', markersize=5)\n",
    "plt.ylabel('j  values')\n",
    "plt.xlabel('k  values')\n",
    "plt.title('Getting j and k Values')\n",
    "plt.show()"
   ]
  },
  {
   "cell_type": "code",
   "execution_count": null,
   "metadata": {},
   "outputs": [],
   "source": [
    "test_bs = list(range(1500, 6000, 500))\n",
    "test_bs"
   ]
  },
  {
   "cell_type": "code",
   "execution_count": null,
   "metadata": {
    "collapsed": true
   },
   "outputs": [],
   "source": [
    "# performance depending on B value\n",
    "base_sizes = []\n",
    "times = []\n",
    "n = 196097436898174954190359\n",
    "for B in test_bs:\n",
    "    F = primes_to_10000[primes_to_10000 < B].tolist()\n",
    "    mag_F = len(F)\n",
    "    \n",
    "    start_time = time.time()\n",
    "    factors, rs = get_factorbase()\n",
    "    write_factors(factors)\n",
    "    !!./gauss1 gauss_input gauss_output\n",
    "    solutions = np.loadtxt('gauss_output', skiprows=1, dtype=int)\n",
    "    f1 = check_solutions()\n",
    "    f2 = n // f1\n",
    "    ellapsed_time = time.time() - start_time\n",
    "    \n",
    "    base_sizes.append(mag_F)\n",
    "    times.append(ellapsed_time)"
   ]
  },
  {
   "cell_type": "code",
   "execution_count": null,
   "metadata": {},
   "outputs": [],
   "source": [
    "times"
   ]
  },
  {
   "cell_type": "code",
   "execution_count": null,
   "metadata": {
    "scrolled": true
   },
   "outputs": [],
   "source": [
    "sns.barplot(test_bs, times)\n",
    "\n",
    "plt.ylabel('Time in seconds')\n",
    "plt.xlabel('B-smooth number')\n",
    "plt.title('B Number and Completion time')\n",
    "\n",
    "plt.show()"
   ]
  },
  {
   "cell_type": "markdown",
   "metadata": {},
   "source": [
    "### Exercise 4: n = 92434447339770015548544881401"
   ]
  },
  {
   "cell_type": "code",
   "execution_count": null,
   "metadata": {},
   "outputs": [],
   "source": [
    "n = 92434447339770015548544881401\n",
    "B = 8000\n",
    "F = primes_to_10000[primes_to_10000 < B].tolist()\n",
    "mag_F = len(F)\n",
    "\n",
    "start_time = time.time()\n",
    "factors, rs = get_factorbase()\n",
    "\n",
    "# write file for GaussBin.cpp\n",
    "write_factors(factors)\n",
    "\n",
    "!!./gauss1 gauss_input gauss_output\n",
    "\n",
    "# load solutions from GaussBin.cpp\n",
    "solutions = np.loadtxt('gauss_output', skiprows=1, dtype=int)\n",
    "\n",
    "f1 = check_solutions()\n",
    "f2 = n // f1\n",
    "ellapsed_time = time.time() - start_time\n",
    "\n",
    "print('The factors of {} are {} and {}.'.format(n, f1, f2))\n",
    "print('It took {} seconds to find the factors.'.format(ellapsed_time))"
   ]
  }
 ],
 "metadata": {
  "kernelspec": {
   "display_name": "Python 3",
   "language": "python",
   "name": "python3"
  },
  "language_info": {
   "codemirror_mode": {
    "name": "ipython",
    "version": 3
   },
   "file_extension": ".py",
   "mimetype": "text/x-python",
   "name": "python",
   "nbconvert_exporter": "python",
   "pygments_lexer": "ipython3",
   "version": "3.6.1"
  }
 },
 "nbformat": 4,
 "nbformat_minor": 2
}
